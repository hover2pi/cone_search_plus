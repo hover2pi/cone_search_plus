{
 "cells": [
  {
   "cell_type": "code",
   "execution_count": 1,
   "metadata": {
    "collapsed": false
   },
   "outputs": [
    {
     "name": "stdout",
     "output_type": "stream",
     "text": [
      "The autoreload extension is already loaded. To reload it, use:\n",
      "  %reload_ext autoreload\n"
     ]
    }
   ],
   "source": [
    "%load_ext autoreload\n",
    "%autoreload 2\n",
    "%matplotlib inline"
   ]
  },
  {
   "cell_type": "markdown",
   "metadata": {},
   "source": [
    "# Find K-giant calibrators near my target"
   ]
  },
  {
   "cell_type": "markdown",
   "metadata": {},
   "source": [
    "First, some imports!"
   ]
  },
  {
   "cell_type": "code",
   "execution_count": 10,
   "metadata": {
    "collapsed": false
   },
   "outputs": [],
   "source": [
    "import list_builder as lb\n",
    "import availability_checker as ac\n",
    "import sort_targets as st\n",
    "import write_gallery as wg\n",
    "import datetime\n",
    "import numpy as np\n",
    "import astropy.table as at\n",
    "import astropy.units as q\n",
    "import astropy.coordinates as coords\n",
    "import matplotlib.pyplot as plt\n",
    "import matplotlib.cm as cm\n",
    "from astroquery.irsa import Irsa\n",
    "from astroquery.vizier import Vizier"
   ]
  },
  {
   "cell_type": "markdown",
   "metadata": {},
   "source": [
    "This is a general recipe on how to find K-giant calibrator stars near my targets. I'll use the spiral galaxy NGC1068, a high priority NIRISS/AMI commissioning target, as an example.\n",
    "\n",
    "First, I'll store the search criteria in some variables. \n",
    "\n",
    "`ra` and `dec` are the center coordinates around which we will perform the search. In this case, they are the coordinates of our target NGC1068. `radius` is the radius in degrees about these centeral coordinates where we will search.\n",
    "\n",
    "`kmag` is a tuple of the upper and lower bounds on the 2MASS K magnitude of the stars we are looking for.\n",
    "\n",
    "`JH` and `HK` are tuples of the upper and lower bounds on the 2MASS J-H and H-K colors."
   ]
  },
  {
   "cell_type": "code",
   "execution_count": 38,
   "metadata": {
    "collapsed": false
   },
   "outputs": [],
   "source": [
    "name = 'LkCa15'                   # Just a name for the search\n",
    "j, h, k = 9.424, 8.600, 8.163     # Target mags\n",
    "destination = 'target_lists/'     # The relative path to the save the results to\n",
    "ra, dec = 69.824150, 22.350967    # The central RA and Dec for the search\n",
    "radius = 2.                       # ...which is 40 arcminutes\n",
    "kmag = (6, 8)                     # We only want stars dimmer than 6.3 magnitudes in K-band\n",
    "JH = (round(j-h-0.2,3), round(j-h+0.2,3))           # J-H color close to target color\n",
    "HK = (round(h-k-0.2,3), round(h-k+0.2,3))           # H-K color close to target color\n",
    "KW1 = (0.6,1.2)                   # Require a positive MIR slope, i.e. positive K-W1"
   ]
  },
  {
   "cell_type": "markdown",
   "metadata": {},
   "source": [
    "Now we are ready to perform our search."
   ]
  },
  {
   "cell_type": "code",
   "execution_count": 39,
   "metadata": {
    "collapsed": false
   },
   "outputs": [
    {
     "name": "stdout",
     "output_type": "stream",
     "text": [
      "[MainProcess:2017-02-24T13:35:48.806708] Computing LkCa15 from {'color_cuts': {'H-K': (0.237, 0.637), 'J-H': (0.624, 1.024)},\n",
      " 'k_mag': (6, 8),\n",
      " 'location': {'dec': 22.350967, 'ra': 69.82415, 'radius': 2.0},\n",
      " 'neighbors': ({'delta_k': 5.0, 'r_arcmin': 0.043},)}\n",
      "[MainProcess:2017-02-24T13:35:48.808738] ./query_2mass MK_MIN=6.0 MK_MAX=8.0 RA_CEN=69.82415 DE_CEN=22.350967 DR_MIN=0.001 DR_MAX=2.0 > cache/base_6.0_k_8.0\n",
      "[MainProcess:2017-02-24T13:35:49.430581] Base list 6 < K 8 has 167 sources within 2.0 degrees of 69.82415 22.350967\n",
      "[MainProcess:2017-02-24T13:35:49.430654] After removing duplicate entries: 167\n",
      "[MainProcess:2017-02-24T13:35:49.431090] Pruned 2 sources with non-AAA quality flags\n",
      "[MainProcess:2017-02-24T13:35:49.431122] After removing non-AAA sources: 165\n",
      "[MainProcess:2017-02-24T13:35:49.445738] Pruned 75 sources with 0.624 < J-H > 1.024\n",
      "[MainProcess:2017-02-24T13:35:49.446659] Pruned 50 sources with 0.237 < H-K > 0.637\n",
      "[MainProcess:2017-02-24T13:35:49.450712] After applying 2MASS color cuts: 40\n",
      "[MainProcess:2017-02-24T13:35:49.450745] for cache/base_6.0_k_8.0_good_0.624_JH_1.024_0.237_HK_0.637 prune neighbors deltaK < 5.0 mag; r < 0.043 arcmin\n",
      "[ForkPoolWorker-28:2017-02-24T13:35:49.983344] neighbor searching cache/base_6.0_k_8.0_good_0.624_JH_1.024_0.237_HK_0.637.chunk_00001\n",
      "[ForkPoolWorker-28:2017-02-24T13:35:49.986349] args: ('cache/base_6.0_k_8.0_good_0.624_JH_1.024_0.237_HK_0.637.chunk_00001', 5.0, 0.043, 'cache/base_6.0_k_8.0_good_0.624_JH_1.024_0.237_HK_0.637_without_neighbors_r_0.00072_dk_5.0', <AcquirerProxy object, typeid 'Lock' at 0x1174a8400>, False, False, False)\n",
      "[ForkPoolWorker-28:2017-02-24T13:35:49.988285] ./query_2mass RDLIST+ DR_MIN=0.001 DR_MAX=0.00072 DK_MAX=5.0 < cache/base_6.0_k_8.0_good_0.624_JH_1.024_0.237_HK_0.637.chunk_00001 > cache/base_6.0_k_8.0_good_0.624_JH_1.024_0.237_HK_0.637.chunk_00001.neighbors_r_0.00072_dk_5.0\n",
      "[MainProcess:2017-02-24T13:35:49.981102] Submitting task for cache/base_6.0_k_8.0_good_0.624_JH_1.024_0.237_HK_0.637.chunk_00001\n",
      "[ForkPoolWorker-28:2017-02-24T13:35:56.552167] pruning base list cache/base_6.0_k_8.0_good_0.624_JH_1.024_0.237_HK_0.637.chunk_00001 with neighbor list cache/base_6.0_k_8.0_good_0.624_JH_1.024_0.237_HK_0.637.chunk_00001.neighbors_r_0.00072_dk_5.0\n",
      "[ForkPoolWorker-28:2017-02-24T13:35:56.554383] base stars: 19 entries\n",
      "[ForkPoolWorker-28:2017-02-24T13:35:56.555709] neighbor stars: 3 entries\n",
      "[ForkPoolWorker-28:2017-02-24T13:35:56.557273] keeping 19 entries from base list\n",
      "[ForkPoolWorker-28:2017-02-24T13:35:56.559151] create cache/base_6.0_k_8.0_good_0.624_JH_1.024_0.237_HK_0.637.chunk_00001.pruned with neighbor-having stars removed\n",
      "[ForkPoolWorker-28:2017-02-24T13:35:56.560673] Chunk pruned with dk < 5.0 r < 0.043: 19 of 40 remaining\n",
      "[ForkPoolWorker-28:2017-02-24T13:35:56.562038] Append remaining stars from cache/base_6.0_k_8.0_good_0.624_JH_1.024_0.237_HK_0.637.chunk_00001.pruned to cache/base_6.0_k_8.0_good_0.624_JH_1.024_0.237_HK_0.637_without_neighbors_r_0.00072_dk_5.0\n",
      "[ForkPoolWorker-28:2017-02-24T13:35:56.564117] Acquired lock on cache/base_6.0_k_8.0_good_0.624_JH_1.024_0.237_HK_0.637_without_neighbors_r_0.00072_dk_5.0\n",
      "[ForkPoolWorker-28:2017-02-24T13:35:56.565935] remove cache/base_6.0_k_8.0_good_0.624_JH_1.024_0.237_HK_0.637.chunk_00001.pruned\n",
      "[ForkPoolWorker-28:2017-02-24T13:35:56.567150] remove cache/base_6.0_k_8.0_good_0.624_JH_1.024_0.237_HK_0.637.chunk_00001.neighbors_r_0.00072_dk_5.0\n",
      "[ForkPoolWorker-28:2017-02-24T13:35:56.568465] remove cache/base_6.0_k_8.0_good_0.624_JH_1.024_0.237_HK_0.637.chunk_00001\n",
      "[MainProcess:2017-02-24T13:35:56.569995] Got cache/base_6.0_k_8.0_good_0.624_JH_1.024_0.237_HK_0.637_without_neighbors_r_0.00072_dk_5.0\n",
      "[MainProcess:2017-02-24T13:35:56.570043] After excluding stars with neighbors in deltaK < 5.0 mag; r < 0.043 arcmin: 19 sources\n",
      "[MainProcess:2017-02-24T13:35:56.570064] cp cache/base_6.0_k_8.0_good_0.624_JH_1.024_0.237_HK_0.637_without_neighbors_r_0.00072_dk_5.0 target_lists/LkCa15\n",
      "[MainProcess:2017-02-24T13:35:56.570445] Wrote report to target_lists/LkCa15.report\n"
     ]
    }
   ],
   "source": [
    "result = lb.search(kmag, ra=ra, dec=dec, radius=radius, JH=JH, HK=HK, name=name, list_subdir=destination)"
   ]
  },
  {
   "cell_type": "code",
   "execution_count": 40,
   "metadata": {
    "collapsed": false
   },
   "outputs": [
    {
     "data": {
      "text/html": [
       "&lt;Table length=19&gt;\n",
       "<table id=\"table4679377640\" class=\"table-striped table-bordered table-condensed\">\n",
       "<thead><tr><th>RA</th><th>Dec</th><th>J</th><th>H</th><th>K</th><th>qual</th><th>idx</th><th>delta_RA</th><th>delta_Dec</th><th>J-H</th><th>H-K</th><th>arcmin</th></tr></thead>\n",
       "<thead><tr><th>float64</th><th>float64</th><th>float64</th><th>float64</th><th>float64</th><th>str3</th><th>str9</th><th>float64</th><th>float64</th><th>float64</th><th>float64</th><th>float64</th></tr></thead>\n",
       "<tr><td>69.55373</td><td>23.62389</td><td>8.8</td><td>8.05</td><td>7.8</td><td>AAA</td><td>U00000144</td><td>-0.24782</td><td>1.27337</td><td>0.75</td><td>0.25</td><td>77.822</td></tr>\n",
       "<tr><td>68.94724</td><td>22.83936</td><td>8.65</td><td>7.73</td><td>7.14</td><td>AAA</td><td>U00000095</td><td>-0.80824</td><td>0.4908</td><td>0.92</td><td>0.59</td><td>56.73</td></tr>\n",
       "<tr><td>69.94199</td><td>22.22929</td><td>9.05</td><td>8.13</td><td>7.89</td><td>AAA</td><td>U00000058</td><td>0.10908</td><td>-0.12164</td><td>0.92</td><td>0.24</td><td>9.803</td></tr>\n",
       "<tr><td>71.08806</td><td>23.60838</td><td>8.45</td><td>7.45</td><td>7.16</td><td>AAA</td><td>U00000148</td><td>1.15855</td><td>1.26273</td><td>1.0</td><td>0.29</td><td>102.791</td></tr>\n",
       "<tr><td>68.80006</td><td>23.12473</td><td>8.13</td><td>7.22</td><td>6.91</td><td>AAA</td><td>U00000115</td><td>-0.94197</td><td>0.77711</td><td>0.91</td><td>0.31</td><td>73.258</td></tr>\n",
       "<tr><td>71.62928</td><td>23.43813</td><td>7.43</td><td>6.49</td><td>6.18</td><td>AAA</td><td>U00000138</td><td>1.65691</td><td>1.09768</td><td>0.94</td><td>0.31</td><td>119.204</td></tr>\n",
       "<tr><td>71.51768</td><td>21.18594</td><td>7.68</td><td>6.78</td><td>6.51</td><td>AAA</td><td>U00000024</td><td>1.57976</td><td>-1.15675</td><td>0.9</td><td>0.27</td><td>117.433</td></tr>\n",
       "<tr><td>69.12564</td><td>23.9529</td><td>8.04</td><td>7.29</td><td>7.05</td><td>AAA</td><td>U00000164</td><td>-0.63863</td><td>1.60394</td><td>0.75</td><td>0.24</td><td>103.552</td></tr>\n",
       "<tr><td>71.02925</td><td>22.66601</td><td>7.96</td><td>6.94</td><td>6.61</td><td>AAA</td><td>U00000089</td><td>1.11217</td><td>0.31955</td><td>1.02</td><td>0.33</td><td>69.421</td></tr>\n",
       "<tr><td>70.0001</td><td>23.96927</td><td>8.91</td><td>7.99</td><td>7.74</td><td>AAA</td><td>U00000165</td><td>0.16084</td><td>1.61883</td><td>0.92</td><td>0.25</td><td>97.582</td></tr>\n",
       "<tr><td>67.97518</td><td>22.9116</td><td>7.41</td><td>6.47</td><td>6.12</td><td>AAA</td><td>U00000098</td><td>-1.70364</td><td>0.57135</td><td>0.94</td><td>0.35</td><td>107.778</td></tr>\n",
       "<tr><td>68.5396</td><td>22.37012</td><td>8.84</td><td>8.18</td><td>7.92</td><td>AAA</td><td>U00000067</td><td>-1.18804</td><td>0.02422</td><td>0.66</td><td>0.26</td><td>71.287</td></tr>\n",
       "<tr><td>69.46526</td><td>20.65401</td><td>7.58</td><td>6.68</td><td>6.32</td><td>AAA</td><td>U00000007</td><td>-0.33597</td><td>-1.69709</td><td>0.9</td><td>0.36</td><td>103.77</td></tr>\n",
       "<tr><td>70.16733</td><td>22.61264</td><td>8.56</td><td>7.57</td><td>7.23</td><td>AAA</td><td>U00000082</td><td>0.3168</td><td>0.26204</td><td>0.99</td><td>0.34</td><td>24.668</td></tr>\n",
       "<tr><td>68.72905</td><td>23.3104</td><td>8.49</td><td>7.66</td><td>7.38</td><td>AAA</td><td>U00000127</td><td>-1.00595</td><td>0.96333</td><td>0.83</td><td>0.28</td><td>83.552</td></tr>\n",
       "<tr><td>69.7859</td><td>23.31636</td><td>7.79</td><td>6.82</td><td>6.5</td><td>AAA</td><td>U00000129</td><td>-0.03513</td><td>0.96549</td><td>0.97</td><td>0.32</td><td>57.962</td></tr>\n",
       "<tr><td>69.22578</td><td>22.58896</td><td>7.91</td><td>6.91</td><td>6.54</td><td>AAA</td><td>U00000080</td><td>-0.55249</td><td>0.2391</td><td>1.0</td><td>0.37</td><td>36.119</td></tr>\n",
       "<tr><td>69.198</td><td>23.23719</td><td>9.01</td><td>8.12</td><td>7.85</td><td>AAA</td><td>U00000121</td><td>-0.57544</td><td>0.88753</td><td>0.89</td><td>0.27</td><td>63.458</td></tr>\n",
       "<tr><td>71.58984</td><td>22.9448</td><td>8.49</td><td>7.49</td><td>7.14</td><td>AAA</td><td>U00000107</td><td>1.62647</td><td>0.60363</td><td>1.0</td><td>0.35</td><td>104.061</td></tr>\n",
       "</table>"
      ],
      "text/plain": [
       "<Table length=19>\n",
       "   RA      Dec       J       H       K    ... delta_Dec   J-H     H-K    arcmin\n",
       "float64  float64  float64 float64 float64 ...  float64  float64 float64 float64\n",
       "-------- -------- ------- ------- ------- ... --------- ------- ------- -------\n",
       "69.55373 23.62389     8.8    8.05     7.8 ...   1.27337    0.75    0.25  77.822\n",
       "68.94724 22.83936    8.65    7.73    7.14 ...    0.4908    0.92    0.59   56.73\n",
       "69.94199 22.22929    9.05    8.13    7.89 ...  -0.12164    0.92    0.24   9.803\n",
       "71.08806 23.60838    8.45    7.45    7.16 ...   1.26273     1.0    0.29 102.791\n",
       "68.80006 23.12473    8.13    7.22    6.91 ...   0.77711    0.91    0.31  73.258\n",
       "71.62928 23.43813    7.43    6.49    6.18 ...   1.09768    0.94    0.31 119.204\n",
       "71.51768 21.18594    7.68    6.78    6.51 ...  -1.15675     0.9    0.27 117.433\n",
       "69.12564  23.9529    8.04    7.29    7.05 ...   1.60394    0.75    0.24 103.552\n",
       "71.02925 22.66601    7.96    6.94    6.61 ...   0.31955    1.02    0.33  69.421\n",
       " 70.0001 23.96927    8.91    7.99    7.74 ...   1.61883    0.92    0.25  97.582\n",
       "67.97518  22.9116    7.41    6.47    6.12 ...   0.57135    0.94    0.35 107.778\n",
       " 68.5396 22.37012    8.84    8.18    7.92 ...   0.02422    0.66    0.26  71.287\n",
       "69.46526 20.65401    7.58    6.68    6.32 ...  -1.69709     0.9    0.36  103.77\n",
       "70.16733 22.61264    8.56    7.57    7.23 ...   0.26204    0.99    0.34  24.668\n",
       "68.72905  23.3104    8.49    7.66    7.38 ...   0.96333    0.83    0.28  83.552\n",
       " 69.7859 23.31636    7.79    6.82     6.5 ...   0.96549    0.97    0.32  57.962\n",
       "69.22578 22.58896    7.91    6.91    6.54 ...    0.2391     1.0    0.37  36.119\n",
       "  69.198 23.23719    9.01    8.12    7.85 ...   0.88753    0.89    0.27  63.458\n",
       "71.58984  22.9448    8.49    7.49    7.14 ...   0.60363     1.0    0.35 104.061"
      ]
     },
     "execution_count": 40,
     "metadata": {},
     "output_type": "execute_result"
    }
   ],
   "source": [
    "result"
   ]
  },
  {
   "cell_type": "markdown",
   "metadata": {},
   "source": [
    "We found three potential K-giants within 40 arcminutes of NGC1068! The last column is the distance from the central RA and Dec in arcminutes.\n",
    "\n",
    "Next we need to check the availability of our targets based on their visibility with JWST."
   ]
  },
  {
   "cell_type": "code",
   "execution_count": 41,
   "metadata": {
    "collapsed": false
   },
   "outputs": [
    {
     "data": {
      "text/plain": [
       "<matplotlib.text.Text at 0x1171d6e10>"
      ]
     },
     "execution_count": 41,
     "metadata": {},
     "output_type": "execute_result"
    },
    {
     "data": {
      "text/plain": [
       "<matplotlib.figure.Figure at 0x11754d320>"
      ]
     },
     "metadata": {},
     "output_type": "display_data"
    },
    {
     "data": {
      "image/png": "[encoded data removed]",
      "text/plain": [
       "<matplotlib.figure.Figure at 0x1171b4f28>"
      ]
     },
     "metadata": {},
     "output_type": "display_data"
    }
   ],
   "source": [
    "# Run through visibility_checker and check to see that the neighborhood is clear of other objects \n",
    "anim = ac.analyze_catalog(destination+name, None, lite=True, kind='')\n",
    "\n",
    "# Plot the availability over the year\n",
    "avail_data = np.load(destination+name+'_avail.npy')\n",
    "plt.figure(figsize=(15,10))\n",
    "plt.imshow(avail_data, cmap=cm.winter, interpolation='none')\n",
    "plt.xlabel('Days since 2018-10-29')\n",
    "plt.ylabel('Target')\n",
    "plt.title('Visibility (green)')"
   ]
  },
  {
   "cell_type": "markdown",
   "metadata": {},
   "source": [
    "As expected given our search radius, our three K-giants are visible all at the same time, shown in green.\n",
    "\n",
    "With larget target lists having scattered viewing times, we would want to sort our targets based on their visibility. For this example, we expect no difference after sorting since the targets all have similar viewing conditions. \n",
    "\n",
    "Still, let's run it just so we cover all the steps."
   ]
  },
  {
   "cell_type": "code",
   "execution_count": 42,
   "metadata": {
    "collapsed": false
   },
   "outputs": [
    {
     "name": "stdout",
     "output_type": "stream",
     "text": [
      "  % Total    % Received % Xferd  Average Speed   Time    Time     Time  Current\n",
      "                                 Dload  Upload   Total   Spent    Left  Speed\n",
      "100  2663    0  1296  100  1367    121    128  0:00:10  0:00:10 --:--:--     0\n"
     ]
    }
   ],
   "source": [
    "!python sort_targets.py ./target_lists/AMI ./target_lists/AMI_avail.npy --min_per_day_hemi=4 --max_length=8"
   ]
  },
  {
   "cell_type": "markdown",
   "metadata": {},
   "source": [
    "Finally, let's take a look at the targets in the DSS and 2MASS Point Source Catalogs. \n",
    "\n",
    "First we will retrieve the 2MASS IDs from IRSA, then the spectral type from Vizier, then check the Washington Double Star and Speckle IV catalogs to make sure it is not a binary."
   ]
  },
  {
   "cell_type": "code",
   "execution_count": 43,
   "metadata": {
    "collapsed": false
   },
   "outputs": [
    {
     "name": "stdout",
     "output_type": "stream",
     "text": [
      "Fetching 2MASS ID for source at 69.55373 23.62389 ...\n",
      "No spectral type for source 04381289+2337260\n",
      "\n",
      "Fetching 2MASS ID for source at 68.94724 22.83936 ...\n",
      "04354733+2250216 is not a K-giant: Ae\n",
      "\n",
      "Fetching 2MASS ID for source at 69.94199 22.22929 ...\n",
      "No spectral type for source 04394607+2213454\n",
      "\n",
      "Fetching 2MASS ID for source at 71.08806 23.60838 ...\n",
      "No spectral type for source 04442113+2336301\n",
      "\n",
      "Fetching 2MASS ID for source at 68.80006 23.12473 ...\n",
      "No spectral type for source 04351201+2307290\n",
      "\n",
      "Fetching 2MASS ID for source at 71.62928 23.43813 ...\n",
      "No spectral type for source 04463102+2326172\n",
      "\n",
      "Fetching 2MASS ID for source at 71.51768 21.18594 ...\n",
      "No spectral type for source 04460424+2111093\n",
      "\n",
      "Fetching 2MASS ID for source at 69.12564 23.9529 ...\n",
      "No spectral type for source 04363015+2357104\n",
      "\n",
      "Fetching 2MASS ID for source at 71.02925 22.66601 ...\n",
      "No spectral type for source 04440702+2239576\n",
      "\n",
      "Fetching 2MASS ID for source at 70.0001 23.96927 ...\n",
      "No spectral type for source 04400002+2358093\n",
      "\n",
      "Fetching 2MASS ID for source at 67.97518 22.9116 ...\n",
      "04315404+2254417 is not a K-giant: K5\n",
      "\n",
      "Fetching 2MASS ID for source at 68.5396 22.37012 ...\n",
      "04340950+2222123 is a K2III . Checking multiplicity...\n",
      "04340950+2222123 is a single K-giant! Adding it to the list.\n",
      "\n",
      "Fetching 2MASS ID for source at 69.46526 20.65401 ...\n",
      "No spectral type for source 04375166+2039143\n",
      "\n",
      "Fetching 2MASS ID for source at 70.16733 22.61264 ...\n",
      "No spectral type for source 04404015+2236454\n",
      "\n",
      "Fetching 2MASS ID for source at 68.72905 23.3104 ...\n",
      "No spectral type for source 04345497+2318374\n",
      "\n",
      "Fetching 2MASS ID for source at 69.7859 23.31636 ...\n",
      "No spectral type for source 04390861+2318588\n",
      "\n",
      "Fetching 2MASS ID for source at 69.22578 22.58896 ...\n",
      "No spectral type for source 04365418+2235202\n",
      "\n",
      "Fetching 2MASS ID for source at 69.198 23.23719 ...\n",
      "No spectral type for source 04364752+2314138\n",
      "\n",
      "Fetching 2MASS ID for source at 71.58984 22.9448 ...\n",
      "No spectral type for source 04462155+2256412\n",
      "\n",
      "Done! 1 candidate found.\n",
      "\n",
      "   RA     Dec     J    H    K   qual ... delta_RA delta_Dec J-H  H-K  arcmin\n",
      "------- -------- ---- ---- ---- ---- ... -------- --------- ---- ---- ------\n",
      "68.5396 22.37012 8.84 8.18 7.92  AAA ... -1.18804   0.02422 0.66 0.26 71.287\n"
     ]
    }
   ],
   "source": [
    "IDs, idx, SPT = [], [], []\n",
    "for n,row in enumerate(result):\n",
    "    r, d = row['RA'], row['Dec']\n",
    "    print('Fetching 2MASS ID for source at',r,d,'...')\n",
    "    source = Irsa.query_region(coords.ICRS(ra=r*q.deg, dec=d*q.deg), radius=2.0*q.arcsec, catalog=['fp_psc'])\n",
    "    twomass = source['designation'][0].decode(\"utf-8\")\n",
    "    \n",
    "    # Checking [Skiff, SEGUE, Michigan Spectral Survey]\n",
    "    catalogs = ['B/mk/mktypes','J/ApJ/816/80/table3','III/214/vol5']\n",
    "    MK = Vizier.query_region(coords.ICRS(ra=r*q.deg, dec=d*q.deg), radius=4.0*q.arcsec, catalog=catalogs)\n",
    "    \n",
    "    # Checking WDS and Speckle\n",
    "    binaries = ['B/wds/wds','J/AJ/143/124']\n",
    "    try:\n",
    "        spts = [i.decode(\"utf-8\") for i in MK[0]['SpType']]\n",
    "        \n",
    "        for spt in spts:\n",
    "            if 'K' in spt and 'III' in spt:\n",
    "                print(twomass,'is a',spt,'. Checking multiplicity...')\n",
    "                \n",
    "                wds = Vizier.query_region(coords.ICRS(ra=r*q.deg, dec=d*q.deg), radius=2.0*q.arcsec, catalog=binaries)\n",
    "                \n",
    "                if wds:\n",
    "                    print(twomass,'is a binary! Sorry.')\n",
    "                else:\n",
    "                    print(twomass,'is a single K-giant! Adding it to the list.')\n",
    "                    IDs.append(twomass)\n",
    "                    idx.append(n)\n",
    "                    SPT.append(spt)\n",
    "                    break\n",
    "            else:\n",
    "                print(twomass,'is not a K-giant:',spt)\n",
    "    except:\n",
    "        print('No spectral type for source',twomass)\n",
    "    print('\\r')\n",
    "    \n",
    "try:\n",
    "    result['SpT'] = SPT\n",
    "except:\n",
    "    pass\n",
    "    \n",
    "print('Done!',len(IDs),'candidate{} found.\\n'.format('' if len(IDs)==1 else 's'))\n",
    "print(result[idx])"
   ]
  },
  {
   "cell_type": "markdown",
   "metadata": {
    "collapsed": true
   },
   "source": [
    "Now we can get the postage stamps for the objects. In this case, only one K-giant was found... but that's all we need!"
   ]
  },
  {
   "cell_type": "code",
   "execution_count": 20,
   "metadata": {
    "collapsed": false
   },
   "outputs": [],
   "source": [
    "wg.gallery(IDs, 'target_lists/Cutouts.html')\n",
    "!open target_lists/Cutouts.html"
   ]
  },
  {
   "cell_type": "markdown",
   "metadata": {},
   "source": [
    "FIN"
   ]
  }
 ],
 "metadata": {
  "anaconda-cloud": {},
  "kernelspec": {
   "display_name": "Python [conda env:astroconda]",
   "language": "python",
   "name": "conda-env-astroconda-py"
  },
  "language_info": {
   "codemirror_mode": {
    "name": "ipython",
    "version": 3
   },
   "file_extension": ".py",
   "mimetype": "text/x-python",
   "name": "python",
   "nbconvert_exporter": "python",
   "pygments_lexer": "ipython3",
   "version": "3.5.2"
  }
 },
 "nbformat": 4,
 "nbformat_minor": 1
}
