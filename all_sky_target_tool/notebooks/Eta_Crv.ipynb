{
 "cells": [
  {
   "cell_type": "code",
   "execution_count": 1,
   "metadata": {
    "collapsed": false
   },
   "outputs": [
    {
     "name": "stdout",
     "output_type": "stream",
     "text": [
      "The autoreload extension is already loaded. To reload it, use:\n",
      "  %reload_ext autoreload\n"
     ]
    }
   ],
   "source": [
    "%load_ext autoreload\n",
    "%autoreload 2\n",
    "%matplotlib inline"
   ]
  },
  {
   "cell_type": "markdown",
   "metadata": {},
   "source": [
    "# Find calibrators near Eta Crv"
   ]
  },
  {
   "cell_type": "markdown",
   "metadata": {},
   "source": [
    "First, some imports!"
   ]
  },
  {
   "cell_type": "code",
   "execution_count": 3,
   "metadata": {
    "collapsed": false
   },
   "outputs": [
    {
     "ename": "ImportError",
     "evalue": "cannot import name 'list_builder'",
     "output_type": "error",
     "traceback": [
      "\u001b[0;31m---------------------------------------------------------------------------\u001b[0m",
      "\u001b[0;31mImportError\u001b[0m                               Traceback (most recent call last)",
      "\u001b[0;32m<ipython-input-3-591d8e968411>\u001b[0m in \u001b[0;36m<module>\u001b[0;34m()\u001b[0m\n\u001b[1;32m      1\u001b[0m \u001b[0;32mimport\u001b[0m \u001b[0msys\u001b[0m\u001b[0;34m,\u001b[0m \u001b[0mos\u001b[0m\u001b[0;34m\u001b[0m\u001b[0m\n\u001b[0;32m----> 2\u001b[0;31m \u001b[0;32mfrom\u001b[0m \u001b[0mall_sky_target_tool\u001b[0m \u001b[0;32mimport\u001b[0m \u001b[0mlist_builder\u001b[0m \u001b[0;32mas\u001b[0m \u001b[0mlb\u001b[0m\u001b[0;34m\u001b[0m\u001b[0m\n\u001b[0m\u001b[1;32m      3\u001b[0m \u001b[0;32mimport\u001b[0m \u001b[0mtarget_tools\u001b[0m \u001b[0;32mas\u001b[0m \u001b[0mtt\u001b[0m\u001b[0;34m\u001b[0m\u001b[0m\n\u001b[1;32m      4\u001b[0m \u001b[0;32mimport\u001b[0m \u001b[0mavailability_checker\u001b[0m \u001b[0;32mas\u001b[0m \u001b[0mac\u001b[0m\u001b[0;34m\u001b[0m\u001b[0m\n\u001b[1;32m      5\u001b[0m \u001b[0;32mimport\u001b[0m \u001b[0msort_targets\u001b[0m \u001b[0;32mas\u001b[0m \u001b[0mst\u001b[0m\u001b[0;34m\u001b[0m\u001b[0m\n",
      "\u001b[0;31mImportError\u001b[0m: cannot import name 'list_builder'"
     ]
    }
   ],
   "source": [
    "import sys, os\n",
    "from all_sky_target_tool import list_builder as lb\n",
    "from all_sky_target_tool import import target_tools as tt\n",
    "from all_sky_target_tool import import availability_checker as ac\n",
    "from all_sky_target_tool import import sort_targets as st\n",
    "from all_sky_target_tool import import write_gallery as wg\n",
    "import datetime\n",
    "import glob\n",
    "import numpy as np\n",
    "import astropy.table as at\n",
    "import astropy.units as q\n",
    "import astropy.io.ascii as ii\n",
    "import astropy.coordinates as coords\n",
    "import matplotlib.pyplot as plt\n",
    "import matplotlib.cm as cm\n",
    "from astroquery.irsa import Irsa\n",
    "from astroquery.vizier import Vizier\n",
    "from astroquery.simbad import Simbad"
   ]
  },
  {
   "cell_type": "markdown",
   "metadata": {},
   "source": [
    "This is a general recipe on how to find calibrator stars near my targets.\n",
    "\n",
    "First, I'll store the search criteria in some variables. "
   ]
  },
  {
   "cell_type": "code",
   "execution_count": 64,
   "metadata": {
    "collapsed": true
   },
   "outputs": [],
   "source": [
    "# if float: The allowed magnitude difference from the target K magnitude\n",
    "# if tuple: The upper and lower K magnitude values (in case of asymmetry)\n",
    "#delta_K = (3.4, 4.5)\n",
    "delta_K = 2.                      \n",
    "\n",
    "# The allowed color difference from the target\n",
    "delta_color = 2.\n",
    "\n",
    "# The search radius from the target in degrees\n",
    "search_radius = 3.\n",
    "\n",
    "# The minimum quality flag on the 2MASS photometry [ABCDEFUX]\n",
    "quality = 'A'\n",
    "\n",
    "# The destination for the results\n",
    "destination = 'target_lists/'"
   ]
  },
  {
   "cell_type": "markdown",
   "metadata": {},
   "source": [
    "Now I'll calculate and store the target info.\n",
    "\n",
    "`ra` and `dec` are the center coordinates around which we will perform the search, i.e. the target coordinates. \n",
    "\n",
    "`kmag` is a tuple of the upper and lower bounds on the 2MASS K magnitude of the stars we are looking for.\n",
    "\n",
    "`JH` and `HK` are tuples of the upper and lower bounds on the 2MASS J-H and H-K colors."
   ]
  },
  {
   "cell_type": "code",
   "execution_count": 65,
   "metadata": {
    "collapsed": false
   },
   "outputs": [
    {
     "name": "stdout",
     "output_type": "stream",
     "text": [
      " name       ra          dec        J     H     K     W1    W2    JH   HK  KW1   W1W2 \n",
      "------ ------------ ------------ ----- ----- ----- ----- ----- ----- --- ----- ------\n",
      "EtaCrv 188.01761054 -16.19600458 3.609 3.372 3.372 2.685 2.912 0.237 0.0 0.687 -0.227\n"
     ]
    }
   ],
   "source": [
    "# Source info\n",
    "name = 'EtaCrv'\n",
    "ra, dec = 188.01761054, -16.19600458\n",
    "c = coords.ICRS(ra=ra*q.deg, dec=dec*q.deg)\n",
    "\n",
    "# Query 2MASS and WISE\n",
    "WISE, MASS = Vizier.query_region(c, radius=10.0*q.arcsec, catalog=['II/328/allwise','II/246/out'])\n",
    "J, H, K = [MASS[m][0] for m in ['Jmag','Hmag','Kmag']]\n",
    "W1, W2 = [WISE[m][0] for m in ['W1mag','W2mag']]\n",
    "\n",
    "# Set color and magnitude constraints\n",
    "kmag = (K-delta_K, K+delta_K) if isinstance(delta_K,(float,int)) else delta_K\n",
    "JH = (round(J-H-delta_color,3), round(J-H+delta_color,3))\n",
    "HK = (round(H-K-delta_color,3), round(H-K+delta_color,3))                                         \n",
    "\n",
    "# Make a table\n",
    "target = at.Table(np.array([name, ra, dec, J, H, K, W1, W2, J-H, H-K, K-W1, W1-W2]), \n",
    "                   names=['name','ra','dec','J','H','K','W1','W2','JH','HK','KW1','W1W2'],\n",
    "                   dtype=[str, float, float, float, float, float, float, float, float, float, float, float])\n",
    "\n",
    "target.pprint(max_width=120)"
   ]
  },
  {
   "cell_type": "markdown",
   "metadata": {},
   "source": [
    "Now we are ready to perform our search."
   ]
  },
  {
   "cell_type": "code",
   "execution_count": 66,
   "metadata": {
    "collapsed": false,
    "scrolled": true
   },
   "outputs": [
    {
     "name": "stdout",
     "output_type": "stream",
     "text": [
      "[MainProcess:2017-05-03T14:36:53.574253] Computing EtaCrv from {'color_cuts': {'H-K': (-2.0, 2.0),\n",
      "                'J-H': (-1.7629999999999999, 2.2370000000000001)},\n",
      " 'k_mag': (1.371999979019165, 5.371999979019165),\n",
      " 'location': {'dec': -16.19600458, 'ra': 188.01761054, 'radius': 3.0},\n",
      " 'neighbors': ({'delta_k': 5.0, 'r_arcmin': 0.043},)}\n",
      "[MainProcess:2017-05-03T14:36:53.575805] ./query_2mass MK_MIN=1.4 MK_MAX=5.4 RA_CEN=188.01761054 DE_CEN=-16.19600458 DR_MIN=0.001 DR_MAX=3.0 > cache/base_1.4_k_5.4\n",
      "[ForkPoolWorker-37:2017-05-03T14:36:54.268033] neighbor searching cache/base_1.4_k_5.4_good_-1.763_JH_2.237_-2.0_HK_2.0.chunk_00001\n",
      "[ForkPoolWorker-37:2017-05-03T14:36:54.270808] args: ('cache/base_1.4_k_5.4_good_-1.763_JH_2.237_-2.0_HK_2.0.chunk_00001', 5.0, 0.043, 'cache/base_1.4_k_5.4_good_-1.763_JH_2.237_-2.0_HK_2.0_without_neighbors_r_0.00072_dk_5.0', <AcquirerProxy object, typeid 'Lock' at 0x11720c198>, False, False, False)\n",
      "[ForkPoolWorker-37:2017-05-03T14:36:54.272601] ./query_2mass RDLIST+ DR_MIN=0.001 DR_MAX=0.00072 DK_MAX=5.0 < cache/base_1.4_k_5.4_good_-1.763_JH_2.237_-2.0_HK_2.0.chunk_00001 > cache/base_1.4_k_5.4_good_-1.763_JH_2.237_-2.0_HK_2.0.chunk_00001.neighbors_r_0.00072_dk_5.0\n",
      "[MainProcess:2017-05-03T14:36:54.248563] Base list 1.371999979019165 < K 5.371999979019165 has 29 sources within 3.0 degrees of 188.01761054 -16.19600458\n",
      "[MainProcess:2017-05-03T14:36:54.248657] After removing duplicate entries: 29\n",
      "[MainProcess:2017-05-03T14:36:54.249210] Pruned 16 sources with worse than 'AAA' quality flags\n",
      "[MainProcess:2017-05-03T14:36:54.249251] After removing sources with worse than 'AAA' quality flags: 13\n",
      "[MainProcess:2017-05-03T14:36:54.258217] Pruned 0 sources with -1.763 < J-H > 2.237\n",
      "[MainProcess:2017-05-03T14:36:54.259464] Pruned 0 sources with -2.0 < H-K > 2.0\n",
      "[MainProcess:2017-05-03T14:36:54.263396] After applying 2MASS color cuts: 13\n",
      "[MainProcess:2017-05-03T14:36:54.263434] for cache/base_1.4_k_5.4_good_-1.763_JH_2.237_-2.0_HK_2.0 prune neighbors deltaK < 5.0 mag; r < 0.043 arcmin\n",
      "[MainProcess:2017-05-03T14:36:54.266085] Submitting task for cache/base_1.4_k_5.4_good_-1.763_JH_2.237_-2.0_HK_2.0.chunk_00001\n",
      "[ForkPoolWorker-37:2017-05-03T14:36:56.489901] pruning base list cache/base_1.4_k_5.4_good_-1.763_JH_2.237_-2.0_HK_2.0.chunk_00001 with neighbor list cache/base_1.4_k_5.4_good_-1.763_JH_2.237_-2.0_HK_2.0.chunk_00001.neighbors_r_0.00072_dk_5.0\n",
      "[ForkPoolWorker-37:2017-05-03T14:36:56.492110] base stars: 10 entries\n",
      "[ForkPoolWorker-37:2017-05-03T14:36:56.493409] neighbor stars: 3 entries\n",
      "[ForkPoolWorker-37:2017-05-03T14:36:56.494677] keeping 10 entries from base list\n",
      "[ForkPoolWorker-37:2017-05-03T14:36:56.496410] create cache/base_1.4_k_5.4_good_-1.763_JH_2.237_-2.0_HK_2.0.chunk_00001.pruned with neighbor-having stars removed\n",
      "[ForkPoolWorker-37:2017-05-03T14:36:56.497879] Chunk pruned with dk < 5.0 r < 0.043: 10 of 13 remaining\n",
      "[ForkPoolWorker-37:2017-05-03T14:36:56.499059] Append remaining stars from cache/base_1.4_k_5.4_good_-1.763_JH_2.237_-2.0_HK_2.0.chunk_00001.pruned to cache/base_1.4_k_5.4_good_-1.763_JH_2.237_-2.0_HK_2.0_without_neighbors_r_0.00072_dk_5.0\n",
      "[ForkPoolWorker-37:2017-05-03T14:36:56.501266] Acquired lock on cache/base_1.4_k_5.4_good_-1.763_JH_2.237_-2.0_HK_2.0_without_neighbors_r_0.00072_dk_5.0\n",
      "[ForkPoolWorker-37:2017-05-03T14:36:56.503129] remove cache/base_1.4_k_5.4_good_-1.763_JH_2.237_-2.0_HK_2.0.chunk_00001.pruned\n",
      "[ForkPoolWorker-37:2017-05-03T14:36:56.504271] remove cache/base_1.4_k_5.4_good_-1.763_JH_2.237_-2.0_HK_2.0.chunk_00001.neighbors_r_0.00072_dk_5.0\n",
      "[ForkPoolWorker-37:2017-05-03T14:36:56.505341] remove cache/base_1.4_k_5.4_good_-1.763_JH_2.237_-2.0_HK_2.0.chunk_00001\n",
      "[MainProcess:2017-05-03T14:36:56.506906] Got cache/base_1.4_k_5.4_good_-1.763_JH_2.237_-2.0_HK_2.0_without_neighbors_r_0.00072_dk_5.0\n",
      "[MainProcess:2017-05-03T14:36:56.506959] After excluding stars with neighbors in deltaK < 5.0 mag; r < 0.043 arcmin: 10 sources\n",
      "[MainProcess:2017-05-03T14:36:56.506979] cp cache/base_1.4_k_5.4_good_-1.763_JH_2.237_-2.0_HK_2.0_without_neighbors_r_0.00072_dk_5.0 target_lists/EtaCrv\n",
      "[MainProcess:2017-05-03T14:36:56.507473] Wrote report to target_lists/EtaCrv.report\n"
     ]
    }
   ],
   "source": [
    "# Run ote_target_tool with the given search criteria\n",
    "result = lb.search(kmag, ra=ra, dec=dec, radius=search_radius, JH=JH, HK=HK, name=name, quality=quality, list_subdir=destination)"
   ]
  },
  {
   "cell_type": "code",
   "execution_count": 67,
   "metadata": {
    "collapsed": false
   },
   "outputs": [
    {
     "name": "stdout",
     "output_type": "stream",
     "text": [
      "    RA       Dec     J    H    K   qual    idx    delta_RA delta_Dec J-H  H-K   arcmin\n",
      "--------- --------- ---- ---- ---- ---- --------- -------- --------- ---- ---- -------\n",
      "188.22531 -16.66011 5.81 5.36 5.22  AAA U00000013  0.19899  -0.46422 0.45 0.14  30.303\n",
      " 187.2677 -16.39214 6.08 5.49 5.34  AAA U00000016 -0.71947  -0.19747 0.59 0.15  44.762\n",
      "189.21164 -15.57236 5.61 5.08 4.91  AAA U00000021  1.15041   0.62045 0.53 0.17   78.41\n",
      "190.17918 -16.14674 6.14 5.43 5.22  AAA U00000017  2.07718   0.03836 0.71 0.21 124.597\n",
      "186.49748 -17.92902 5.68 5.01 4.79  AAA U00000008 -1.44727  -1.73945 0.67 0.22 135.698\n",
      " 188.1331 -18.74577 5.98  5.3 5.14  AAA U00000003  0.10947  -2.55149 0.68 0.16 153.129\n",
      "190.60246  -15.2378 5.77 5.31 5.07  AAA U00000023  2.49583   0.94349 0.46 0.24 159.977\n",
      "188.02541 -18.89117  6.4 5.47 5.12  AAA U00000001  0.00738  -2.69715 0.93 0.35 161.711\n",
      "190.57339 -15.08361 5.97 5.44 5.31  AAA U00000024  2.46966   1.09819 0.53 0.13 162.049\n",
      "   187.52 -13.39307 5.24 4.93 4.83  AAA U00000029 -0.48466   2.80468 0.31  0.1 170.635\n"
     ]
    }
   ],
   "source": [
    "# Sort by distance\n",
    "result.sort('arcmin')\n",
    "result.pprint(max_width=120)"
   ]
  },
  {
   "cell_type": "markdown",
   "metadata": {},
   "source": [
    "Above are the search results. The last column is the distance from the central RA and Dec in arcminutes.\n",
    "\n",
    "Next we need to check the availability of our targets based on their visibility with JWST."
   ]
  },
  {
   "cell_type": "code",
   "execution_count": 68,
   "metadata": {
    "collapsed": false
   },
   "outputs": [
    {
     "data": {
      "text/plain": [
       "<matplotlib.text.Text at 0x117833390>"
      ]
     },
     "execution_count": 68,
     "metadata": {},
     "output_type": "execute_result"
    },
    {
     "data": {
      "text/plain": [
       "<matplotlib.figure.Figure at 0x11781f5f8>"
      ]
     },
     "metadata": {},
     "output_type": "display_data"
    },
    {
     "data": {
      "image/png": "[encoded data removed]",
      "text/plain": [
       "<matplotlib.figure.Figure at 0x116ae8a20>"
      ]
     },
     "metadata": {},
     "output_type": "display_data"
    }
   ],
   "source": [
    "# Run through visibility_checker and check to see that the neighborhood is clear of other objects \n",
    "anim = ac.analyze_catalog(destination+name, None, lite=True, kind='')\n",
    "\n",
    "# Plot the availability over the year\n",
    "avail_data = np.load(destination+name+'_avail.npy')\n",
    "plt.figure(figsize=(15,10))\n",
    "plt.imshow(avail_data, cmap=cm.winter, interpolation='none')\n",
    "plt.xlabel('Days since 2018-10-29')\n",
    "plt.ylabel('Target')\n",
    "plt.title('Visibility (green)')"
   ]
  },
  {
   "cell_type": "markdown",
   "metadata": {},
   "source": [
    "As expected given our search radius, our K-giants are visible all at the same time, shown in green.\n",
    "\n",
    "With target lists having scattered viewing times, we would want to sort our targets based on their visibility. For this example, we expect no difference after sorting since the targets all have similar viewing conditions. \n",
    "\n",
    "Still, let's run it just so we cover all the steps."
   ]
  },
  {
   "cell_type": "code",
   "execution_count": 69,
   "metadata": {
    "collapsed": false
   },
   "outputs": [],
   "source": [
    "#!python sort_targets.py ./target_lists/AMI ./target_lists/AMI_avail.npy --min_per_day_hemi=4 --max_length=8"
   ]
  },
  {
   "cell_type": "markdown",
   "metadata": {},
   "source": [
    "Next we will vet the list of candidates by searching the catalogs for binarity (Washington Double Star and Speckle), parallaxes (Gaia and Hipparchos), spectral types (Skiff, SEGUE, Michigan Spetral Survey), and allWISE magnitudes.\n",
    "\n",
    "With these values, we can calculate the angular diameter and NIR-MIR colors of each candidate."
   ]
  },
  {
   "cell_type": "code",
   "execution_count": 102,
   "metadata": {
    "collapsed": false
   },
   "outputs": [
    {
     "name": "stdout",
     "output_type": "stream",
     "text": [
      "Binary at 187.52, -13.39307. Skipping...\n",
      "\n",
      "Done! 9 candidates found.\n",
      "\n",
      "  SIMBAD      RA       Dec     J    H    K   qual   sep      SpT      d    theta_D   W1    W2       2MASS      \n",
      "             deg       deg                         arcmin             pc   marcsec                             \n",
      "--------- --------- --------- ---- ---- ---- ---- ------- --------- ------ ------- ----- ----- ----------------\n",
      "HD 109181 188.22531 -16.66011 5.81 5.36 5.22  AAA  30.303    K0 III 214.13  0.8749 5.188 5.059 12325407-1639364\n",
      "HD 108654  187.2677 -16.39214 6.08 5.49 5.34  AAA  44.762  K0/1 III 185.53  1.0097 5.306 5.253 12290424-1623317\n",
      "HD 109709 189.21164 -15.57236 5.61 5.08 4.91  AAA   78.41    K0 III 390.62  0.4796 4.805 4.652 12365079-1534204\n",
      "HD 110212 190.17918 -16.14674 6.14 5.43 5.22  AAA 124.597    K3 III 833.33  0.3443 5.189 5.108 12404300-1608482\n",
      "HD 108216 186.49748 -17.92902 5.68 5.01 4.79  AAA 135.698    K3 III 377.36  0.7604 4.688 4.509 12255939-1755444\n",
      "HD 109131  188.1331 -18.74577 5.98  5.3 5.14  AAA 153.129 K2 IIICNV 411.52     nan 5.124 4.978 12323194-1844447\n",
      "HD 110453 190.60246  -15.2378 5.77 5.31 5.07  AAA 159.977    K1 III 226.76   0.952 4.993 4.908 12422459-1514160\n",
      "        - 188.02541 -18.89117  6.4 5.47 5.12  AAA 161.711              nan     nan 5.022 4.826 12320610-1853282\n",
      "HD 110442 190.57339 -15.08361 5.97 5.44 5.31  AAA 162.049    K0 III 239.81  0.7812 5.242 5.156 12421761-1505009\n"
     ]
    },
    {
     "data": {
      "text/html": [
       "<a href='http://simbad.u-strasbg.fr/simbad/sim-id?Ident=2MASS%20J12325407-1639364' target='_'>HD 109181</a>, <a href='http://simbad.u-strasbg.fr/simbad/sim-id?Ident=2MASS%20J12290424-1623317' target='_'>HD 108654</a>, <a href='http://simbad.u-strasbg.fr/simbad/sim-id?Ident=2MASS%20J12365079-1534204' target='_'>HD 109709</a>, <a href='http://simbad.u-strasbg.fr/simbad/sim-id?Ident=2MASS%20J12404300-1608482' target='_'>HD 110212</a>, <a href='http://simbad.u-strasbg.fr/simbad/sim-id?Ident=2MASS%20J12255939-1755444' target='_'>HD 108216</a>, <a href='http://simbad.u-strasbg.fr/simbad/sim-id?Ident=2MASS%20J12323194-1844447' target='_'>HD 109131</a>, <a href='http://simbad.u-strasbg.fr/simbad/sim-id?Ident=2MASS%20J12422459-1514160' target='_'>HD 110453</a>, <a href='http://simbad.u-strasbg.fr/simbad/sim-id?Ident=2MASS%20J12320610-1853282' target='_'>12320610-1853282</a>, <a href='http://simbad.u-strasbg.fr/simbad/sim-id?Ident=2MASS%20J12421761-1505009' target='_'>HD 110442</a>"
      ],
      "text/plain": [
       "<IPython.core.display.HTML object>"
      ]
     },
     "metadata": {},
     "output_type": "display_data"
    },
    {
     "name": "stdout",
     "output_type": "stream",
     "text": [
      "\n",
      "Table written to ../ami_find_calibrators/EtaCrv_calibrators_3deg.txt\n"
     ]
    }
   ],
   "source": [
    "final = tt.vet_list(result, write_to='../ami_find_calibrators/{}_calibrators_{}deg.txt'.format(name,int(search_radius)))"
   ]
  },
  {
   "cell_type": "code",
   "execution_count": 103,
   "metadata": {
    "collapsed": false
   },
   "outputs": [
    {
     "data": {
      "image/png": "[encoded data removed]",
      "text/plain": [
       "<matplotlib.figure.Figure at 0x112553ef0>"
      ]
     },
     "metadata": {},
     "output_type": "display_data"
    },
    {
     "data": {
      "image/png": "[encoded data removed]",
      "text/plain": [
       "<matplotlib.figure.Figure at 0x112553da0>"
      ]
     },
     "metadata": {},
     "output_type": "display_data"
    }
   ],
   "source": [
    "# Make a color color plot\n",
    "tt.proximity_plot(final['K']-final['W1'], final['W1']-final['W2'], (K-W1,W1-W2), delta_color, 'K-W1', 'W1-W2')\n",
    "\n",
    "# Make a skyplot\n",
    "tt.proximity_plot(final['RA'], final['Dec'], (ra,dec), search_radius, 'RA', 'Dec')"
   ]
  },
  {
   "cell_type": "markdown",
   "metadata": {},
   "source": [
    "FIN"
   ]
  }
 ],
 "metadata": {
  "anaconda-cloud": {},
  "kernelspec": {
   "display_name": "Astroconda",
   "language": "python",
   "name": "astroconda_kernel"
  },
  "language_info": {
   "codemirror_mode": {
    "name": "ipython",
    "version": 3
   },
   "file_extension": ".py",
   "mimetype": "text/x-python",
   "name": "python",
   "nbconvert_exporter": "python",
   "pygments_lexer": "ipython3",
   "version": "3.5.2"
  }
 },
 "nbformat": 4,
 "nbformat_minor": 1
}
