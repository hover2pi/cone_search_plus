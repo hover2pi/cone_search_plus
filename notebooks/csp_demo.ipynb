{
 "cells": [
  {
   "cell_type": "markdown",
   "metadata": {},
   "source": [
    "# `cone_search_plus` Demo\n",
    "\n",
    "This notebook will show you how to look for targets on the sky that satisfy certain criteria, like distance, contrast, radius, spectral type, color, and others."
   ]
  },
  {
   "cell_type": "code",
   "execution_count": 6,
   "metadata": {},
   "outputs": [],
   "source": [
    "# Imports and plotting setup\n",
    "from cone_search_plus import csp\n",
    "import astropy.units as q\n",
    "%matplotlib inline"
   ]
  },
  {
   "cell_type": "markdown",
   "metadata": {
    "collapsed": true
   },
   "source": [
    "## Sources near Trappist-1\n",
    "For this demo, we'll try to find calibrator stars for observations of Trappist-1."
   ]
  },
  {
   "cell_type": "code",
   "execution_count": 7,
   "metadata": {},
   "outputs": [
    {
     "name": "stdout",
     "output_type": "stream",
     "text": [
      "  _r     USNO-A2.0    RAJ2000    DEJ2000   ACTflag Mflag Bmag Rmag  Epoch  \n",
      " arcm                   deg        deg                   mag  mag     yr   \n",
      "------ ------------- ---------- ---------- ------- ----- ---- ---- --------\n",
      "1.7118 0825-19856975 346.595528  -5.031456               18.3 17.2 1953.680\n",
      "0.8099 0825-19857185 346.610139  -5.035592               17.4 15.5 1953.680\n",
      "0.1138 0825-19857340 346.621587  -5.039667               18.8 18.2 1953.680\n",
      "1.9556 0825-19857424 346.627275  -5.073620               18.7 17.7 1953.680\n",
      "1.1837 0825-19857643 346.641906  -5.044656               17.9 17.0 1953.680\n",
      "1.6607 0825-19857776 346.650070  -5.039175               15.2 14.7 1953.680\n",
      "6 sources found within 2.0 arcmin\n"
     ]
    }
   ],
   "source": [
    "# Coordinates of Trappist-1\n",
    "ra = 346.6223683553692\n",
    "dec = -05.0413976917903\n",
    "\n",
    "# Make the SourceList object\n",
    "sl = csp.SourceList([ra,dec], 2*q.arcmin)"
   ]
  },
  {
   "cell_type": "markdown",
   "metadata": {},
   "source": [
    "Excellent, we found 6 sources."
   ]
  },
  {
   "cell_type": "code",
   "execution_count": null,
   "metadata": {
    "collapsed": true
   },
   "outputs": [],
   "source": []
  }
 ],
 "metadata": {
  "anaconda-cloud": {},
  "kernelspec": {
   "display_name": "Astroconda",
   "language": "python",
   "name": "astroconda_kernel"
  },
  "language_info": {
   "codemirror_mode": {
    "name": "ipython",
    "version": 3
   },
   "file_extension": ".py",
   "mimetype": "text/x-python",
   "name": "python",
   "nbconvert_exporter": "python",
   "pygments_lexer": "ipython3",
   "version": "3.5.2"
  }
 },
 "nbformat": 4,
 "nbformat_minor": 2
}
