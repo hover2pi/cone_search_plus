{
 "cells": [
  {
   "cell_type": "code",
   "execution_count": 1,
   "metadata": {
    "collapsed": false
   },
   "outputs": [
    {
     "name": "stdout",
     "output_type": "stream",
     "text": [
      "The autoreload extension is already loaded. To reload it, use:\n",
      "  %reload_ext autoreload\n"
     ]
    }
   ],
   "source": [
    "%load_ext autoreload\n",
    "%autoreload 2\n",
    "%matplotlib inline"
   ]
  },
  {
   "cell_type": "markdown",
   "metadata": {},
   "source": [
    "# Find K-giant calibrators near my target"
   ]
  },
  {
   "cell_type": "markdown",
   "metadata": {},
   "source": [
    "First, some imports!"
   ]
  },
  {
   "cell_type": "code",
   "execution_count": 37,
   "metadata": {
    "collapsed": false
   },
   "outputs": [],
   "source": [
    "import list_builder as lb\n",
    "import availability_checker as ac\n",
    "import sort_targets as st\n",
    "import datetime\n",
    "import numpy as np\n",
    "import matplotlib\n",
    "import matplotlib.pyplot as plt"
   ]
  },
  {
   "cell_type": "markdown",
   "metadata": {},
   "source": [
    "This is a general recipe on how to find K-giant calibrator stars near my targets. I'll use the spiral galaxy NGC1068, a high priority NIRISS/AMI commissioning target, as an example.\n",
    "\n",
    "First, I'll store the search criteria in some variables. \n",
    "\n",
    "`ra` and `dec` are the center coordinates around which we will perform the search. In this case, they are the coordinates of our target NGC1068. `radius` is the radius in degrees about these centeral coordinates where we will search.\n",
    "\n",
    "`kmag` is a tuple of the upper and lower bounds on the 2MASS K magnitude of the stars we are looking for.\n",
    "\n",
    "`JH` and `HK` are tuples of the upper and lower bounds on the 2MASS J-H and H-K colors."
   ]
  },
  {
   "cell_type": "code",
   "execution_count": 9,
   "metadata": {
    "collapsed": true
   },
   "outputs": [],
   "source": [
    "name = 'AMI'                      # Just a name for the search\n",
    "destination = 'target_lists/'     # The relative path to the save the results to\n",
    "ra, dec = 40.669879, -0.013289    # The central RA and Dec for the search\n",
    "radius = 0.6                      # ...which is 40 arcminutes\n",
    "kmag = (4, 7)                     # We only want stars between 4 and 7 magnitudes in K-band\n",
    "JH, HK = (0.4, 0.9), (-0.1, 0.3)  # These color cuts isolate K-giants"
   ]
  },
  {
   "cell_type": "markdown",
   "metadata": {},
   "source": [
    "Now we are ready to perform our search."
   ]
  },
  {
   "cell_type": "code",
   "execution_count": 10,
   "metadata": {
    "collapsed": false
   },
   "outputs": [
    {
     "name": "stdout",
     "output_type": "stream",
     "text": [
      "[MainProcess:2016-12-21T09:44:24.844758] Computing AMI from {'color_cuts': {'H-K': (-0.1, 0.3), 'J-H': (0.4, 0.9)},\n",
      " 'k_mag': (4, 7),\n",
      " 'location': {'dec': -0.013289, 'ra': 40.669879, 'radius': 0.6},\n",
      " 'neighbors': ({'delta_k': 5.0, 'r_arcmin': 0.043},)}\n",
      "[MainProcess:2016-12-21T09:44:24.845696] ./query_2mass MK_MIN=4.0 MK_MAX=7.0 RA_CEN=40.669879 DE_CEN=-0.013289 DR_MIN=0.001 DR_MAX=0.6 > cache/base_4.0_k_7.0\n",
      "[ForkPoolWorker-19:2016-12-21T09:44:25.455262] neighbor searching cache/base_4.0_k_7.0_good_0.4_JH_0.9_-0.1_HK_0.3.chunk_00001\n",
      "[ForkPoolWorker-19:2016-12-21T09:44:25.457774] args: ('cache/base_4.0_k_7.0_good_0.4_JH_0.9_-0.1_HK_0.3.chunk_00001', 5.0, 0.043, 'cache/base_4.0_k_7.0_good_0.4_JH_0.9_-0.1_HK_0.3_without_neighbors_r_0.00072_dk_5.0', <AcquirerProxy object, typeid 'Lock' at 0x10fd7ce48>, False, False, False)\n",
      "[ForkPoolWorker-19:2016-12-21T09:44:25.459172] ./query_2mass RDLIST+ DR_MIN=0.001 DR_MAX=0.00072 DK_MAX=5.0 < cache/base_4.0_k_7.0_good_0.4_JH_0.9_-0.1_HK_0.3.chunk_00001 > cache/base_4.0_k_7.0_good_0.4_JH_0.9_-0.1_HK_0.3.chunk_00001.neighbors_r_0.00072_dk_5.0\n",
      "[MainProcess:2016-12-21T09:44:25.437849] Base list 4 < K 7 has 4 sources within 0.6 degrees of 40.669879 -0.013289\n",
      "[MainProcess:2016-12-21T09:44:25.437916] After removing duplicate entries: 4\n",
      "[MainProcess:2016-12-21T09:44:25.438277] Pruned 0 sources with non-AAA quality flags\n",
      "[MainProcess:2016-12-21T09:44:25.438307] After removing non-AAA sources: 4\n",
      "[MainProcess:2016-12-21T09:44:25.445378] Pruned 1 sources with 0.4 < J-H > 0.9\n",
      "[MainProcess:2016-12-21T09:44:25.446195] Pruned 0 sources with -0.1 < H-K > 0.3\n",
      "[MainProcess:2016-12-21T09:44:25.450462] After applying 2MASS color cuts: 3\n",
      "[MainProcess:2016-12-21T09:44:25.450506] for cache/base_4.0_k_7.0_good_0.4_JH_0.9_-0.1_HK_0.3 prune neighbors deltaK < 5.0 mag; r < 0.043 arcmin\n",
      "[MainProcess:2016-12-21T09:44:25.453211] Submitting task for cache/base_4.0_k_7.0_good_0.4_JH_0.9_-0.1_HK_0.3.chunk_00001\n",
      "[ForkPoolWorker-19:2016-12-21T09:44:25.982641] pruning base list cache/base_4.0_k_7.0_good_0.4_JH_0.9_-0.1_HK_0.3.chunk_00001 with neighbor list cache/base_4.0_k_7.0_good_0.4_JH_0.9_-0.1_HK_0.3.chunk_00001.neighbors_r_0.00072_dk_5.0\n",
      "[ForkPoolWorker-19:2016-12-21T09:44:25.984621] base stars: 3 entries\n",
      "[ForkPoolWorker-19:2016-12-21T09:44:25.985861] neighbor stars: 3 entries\n",
      "[ForkPoolWorker-19:2016-12-21T09:44:25.987293] keeping 3 entries from base list\n",
      "[ForkPoolWorker-19:2016-12-21T09:44:25.989004] create cache/base_4.0_k_7.0_good_0.4_JH_0.9_-0.1_HK_0.3.chunk_00001.pruned with neighbor-having stars removed\n",
      "[ForkPoolWorker-19:2016-12-21T09:44:25.990255] Chunk pruned with dk < 5.0 r < 0.043: 3 of 3 remaining\n",
      "[ForkPoolWorker-19:2016-12-21T09:44:25.991461] Append remaining stars from cache/base_4.0_k_7.0_good_0.4_JH_0.9_-0.1_HK_0.3.chunk_00001.pruned to cache/base_4.0_k_7.0_good_0.4_JH_0.9_-0.1_HK_0.3_without_neighbors_r_0.00072_dk_5.0\n",
      "[ForkPoolWorker-19:2016-12-21T09:44:25.993412] Acquired lock on cache/base_4.0_k_7.0_good_0.4_JH_0.9_-0.1_HK_0.3_without_neighbors_r_0.00072_dk_5.0\n",
      "[ForkPoolWorker-19:2016-12-21T09:44:25.995098] remove cache/base_4.0_k_7.0_good_0.4_JH_0.9_-0.1_HK_0.3.chunk_00001.pruned\n",
      "[ForkPoolWorker-19:2016-12-21T09:44:25.996161] remove cache/base_4.0_k_7.0_good_0.4_JH_0.9_-0.1_HK_0.3.chunk_00001.neighbors_r_0.00072_dk_5.0\n",
      "[ForkPoolWorker-19:2016-12-21T09:44:25.997464] remove cache/base_4.0_k_7.0_good_0.4_JH_0.9_-0.1_HK_0.3.chunk_00001\n",
      "[MainProcess:2016-12-21T09:44:25.998956] Got cache/base_4.0_k_7.0_good_0.4_JH_0.9_-0.1_HK_0.3_without_neighbors_r_0.00072_dk_5.0\n",
      "[MainProcess:2016-12-21T09:44:25.999024] After excluding stars with neighbors in deltaK < 5.0 mag; r < 0.043 arcmin: 3 sources\n",
      "[MainProcess:2016-12-21T09:44:25.999046] cp cache/base_4.0_k_7.0_good_0.4_JH_0.9_-0.1_HK_0.3_without_neighbors_r_0.00072_dk_5.0 target_lists/AMI\n",
      "[MainProcess:2016-12-21T09:44:25.999593] Wrote report to target_lists/AMI.report\n"
     ]
    }
   ],
   "source": [
    "result = lb.search(kmag, ra=ra, dec=dec, radius=radius, JH=JH, HK=HK, name=name, list_subdir=destination)"
   ]
  },
  {
   "cell_type": "code",
   "execution_count": 15,
   "metadata": {
    "collapsed": false
   },
   "outputs": [
    {
     "data": {
      "text/html": [
       "&lt;Table length=3&gt;\n",
       "<table id=\"table4560336096\" class=\"table-striped table-bordered table-condensed\">\n",
       "<thead><tr><th>RA</th><th>Dec</th><th>J</th><th>H</th><th>K</th><th>qual</th><th>idx</th><th>delta_RA</th><th>delta_Dec</th><th>J-H</th><th>H-K</th><th>arcmin</th></tr></thead>\n",
       "<thead><tr><th>float64</th><th>float64</th><th>float64</th><th>float64</th><th>float64</th><th>str3</th><th>str9</th><th>float64</th><th>float64</th><th>float64</th><th>float64</th><th>float64</th></tr></thead>\n",
       "<tr><td>41.23526</td><td>-0.00362</td><td>7.03</td><td>6.44</td><td>6.36</td><td>AAA</td><td>U00000001</td><td>0.5654</td><td>0.00966</td><td>0.59</td><td>0.08</td><td>33.928</td></tr>\n",
       "<tr><td>40.82145</td><td>0.08726</td><td>6.19</td><td>5.46</td><td>5.23</td><td>AAA</td><td>U00000002</td><td>0.15157</td><td>0.10055</td><td>0.73</td><td>0.23</td><td>10.913</td></tr>\n",
       "<tr><td>40.93783</td><td>0.21037</td><td>7.16</td><td>6.57</td><td>6.4</td><td>AAA</td><td>U00000003</td><td>0.26795</td><td>0.22367</td><td>0.59</td><td>0.17</td><td>20.942</td></tr>\n",
       "</table>"
      ],
      "text/plain": [
       "<Table length=3>\n",
       "   RA      Dec       J       H       K    ... delta_Dec   J-H     H-K    arcmin\n",
       "float64  float64  float64 float64 float64 ...  float64  float64 float64 float64\n",
       "-------- -------- ------- ------- ------- ... --------- ------- ------- -------\n",
       "41.23526 -0.00362    7.03    6.44    6.36 ...   0.00966    0.59    0.08  33.928\n",
       "40.82145  0.08726    6.19    5.46    5.23 ...   0.10055    0.73    0.23  10.913\n",
       "40.93783  0.21037    7.16    6.57     6.4 ...   0.22367    0.59    0.17  20.942"
      ]
     },
     "execution_count": 15,
     "metadata": {},
     "output_type": "execute_result"
    }
   ],
   "source": [
    "result"
   ]
  },
  {
   "cell_type": "markdown",
   "metadata": {},
   "source": [
    "We found three potential K-giants within 40 arcminutes of NGC1068! The last column is the distance from the central RA and Dec in arcminutes.\n",
    "\n",
    "Next we need to check the availability of our targets based on their visibility with JWST."
   ]
  },
  {
   "cell_type": "code",
   "execution_count": 35,
   "metadata": {
    "collapsed": false
   },
   "outputs": [
    {
     "name": "stderr",
     "output_type": "stream",
     "text": [
      "/Users/jfilippazzo/miniconda3/envs/astroconda/lib/python3.5/site-packages/matplotlib/__init__.py:1357: UserWarning:  This call to matplotlib.use() has no effect\n",
      "because the backend has already been chosen;\n",
      "matplotlib.use() must be called *before* pylab, matplotlib.pyplot,\n",
      "or matplotlib.backends is imported for the first time.\n",
      "\n",
      "  warnings.warn(_use_error_msg)\n"
     ]
    },
    {
     "data": {
      "text/plain": [
       "<matplotlib.text.Text at 0x106a87d68>"
      ]
     },
     "execution_count": 35,
     "metadata": {},
     "output_type": "execute_result"
    },
    {
     "data": {
      "text/plain": [
       "<matplotlib.figure.Figure at 0x10d893828>"
      ]
     },
     "metadata": {},
     "output_type": "display_data"
    },
    {
     "data": {
      "image/png": "[encoded data removed]",
      "text/plain": [
       "<matplotlib.figure.Figure at 0x113b0ef60>"
      ]
     },
     "metadata": {},
     "output_type": "display_data"
    }
   ],
   "source": [
    "# Run through visibility_checker and check to see that the neighborhood is clear of other objects \n",
    "anim = ac.analyze_catalog(destination+name, None, lite=True, kind='')\n",
    "\n",
    "# Plot the availability over the year\n",
    "avail_data = np.load(destination+name+'_avail.npy')\n",
    "plt.figure(figsize=(15,10))\n",
    "plt.imshow(avail_data, cmap=matplotlib.cm.winter, interpolation='none')\n",
    "plt.xlabel('Days since 2018-10-29')\n",
    "plt.ylabel('Target')\n",
    "plt.title('Visibility (green)')"
   ]
  },
  {
   "cell_type": "markdown",
   "metadata": {},
   "source": [
    "As expected given our search radius, our three K-giants are visible all at the same time, shown in green.\n",
    "\n",
    "Next we can prioritize these targets."
   ]
  },
  {
   "cell_type": "code",
   "execution_count": null,
   "metadata": {
    "collapsed": true
   },
   "outputs": [],
   "source": []
  }
 ],
 "metadata": {
  "anaconda-cloud": {},
  "kernelspec": {
   "display_name": "Astroconda",
   "language": "python",
   "name": "astroconda_kernel"
  },
  "language_info": {
   "codemirror_mode": {
    "name": "ipython",
    "version": 3
   },
   "file_extension": ".py",
   "mimetype": "text/x-python",
   "name": "python",
   "nbconvert_exporter": "python",
   "pygments_lexer": "ipython3",
   "version": "3.5.2"
  }
 },
 "nbformat": 4,
 "nbformat_minor": 1
}
