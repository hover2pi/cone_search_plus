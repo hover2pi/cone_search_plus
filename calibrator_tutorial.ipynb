{
 "cells": [
  {
   "cell_type": "code",
   "execution_count": 1,
   "metadata": {
    "collapsed": false
   },
   "outputs": [
    {
     "name": "stdout",
     "output_type": "stream",
     "text": [
      "The autoreload extension is already loaded. To reload it, use:\n",
      "  %reload_ext autoreload\n"
     ]
    }
   ],
   "source": [
    "%load_ext autoreload\n",
    "%autoreload 2\n",
    "%matplotlib inline"
   ]
  },
  {
   "cell_type": "markdown",
   "metadata": {},
   "source": [
    "# Find K-giant calibrators near my target"
   ]
  },
  {
   "cell_type": "markdown",
   "metadata": {},
   "source": [
    "First, some imports!"
   ]
  },
  {
   "cell_type": "code",
   "execution_count": 2,
   "metadata": {
    "collapsed": false
   },
   "outputs": [
    {
     "name": "stderr",
     "output_type": "stream",
     "text": [
      "/Users/jfilippazzo/miniconda3/envs/astroconda/lib/python3.5/site-packages/matplotlib/__init__.py:1357: UserWarning:  This call to matplotlib.use() has no effect\n",
      "because the backend has already been chosen;\n",
      "matplotlib.use() must be called *before* pylab, matplotlib.pyplot,\n",
      "or matplotlib.backends is imported for the first time.\n",
      "\n",
      "  warnings.warn(_use_error_msg)\n"
     ]
    }
   ],
   "source": [
    "import list_builder as lb\n",
    "import availability_checker as ac\n",
    "import sort_targets as st\n",
    "import write_gallery as wg\n",
    "import datetime\n",
    "import numpy as np\n",
    "import matplotlib\n",
    "import matplotlib.pyplot as plt\n",
    "import astropy.table as at\n",
    "import astropy.units as q\n",
    "import astropy.coordinates as coords\n",
    "from astroquery.irsa import Irsa\n",
    "from astroquery.vizier import Vizier"
   ]
  },
  {
   "cell_type": "markdown",
   "metadata": {},
   "source": [
    "This is a general recipe on how to find K-giant calibrator stars near my targets. I'll use the spiral galaxy NGC1068, a high priority NIRISS/AMI commissioning target, as an example.\n",
    "\n",
    "First, I'll store the search criteria in some variables. \n",
    "\n",
    "`ra` and `dec` are the center coordinates around which we will perform the search. In this case, they are the coordinates of our target NGC1068. `radius` is the radius in degrees about these centeral coordinates where we will search.\n",
    "\n",
    "`kmag` is a tuple of the upper and lower bounds on the 2MASS K magnitude of the stars we are looking for.\n",
    "\n",
    "`JH` and `HK` are tuples of the upper and lower bounds on the 2MASS J-H and H-K colors."
   ]
  },
  {
   "cell_type": "code",
   "execution_count": 3,
   "metadata": {
    "collapsed": true
   },
   "outputs": [],
   "source": [
    "name = 'AMI'                      # Just a name for the search\n",
    "destination = 'target_lists/'     # The relative path to the save the results to\n",
    "ra, dec = 40.669879, -0.013289    # The central RA and Dec for the search\n",
    "radius = 0.6                      # ...which is 40 arcminutes\n",
    "kmag = (4, 7)                     # We only want stars between 4 and 7 magnitudes in K-band\n",
    "JH, HK = (0.4, 0.9), (-0.1, 0.3)  # These color cuts isolate K-giants"
   ]
  },
  {
   "cell_type": "markdown",
   "metadata": {},
   "source": [
    "Now we are ready to perform our search."
   ]
  },
  {
   "cell_type": "code",
   "execution_count": 4,
   "metadata": {
    "collapsed": false
   },
   "outputs": [
    {
     "name": "stdout",
     "output_type": "stream",
     "text": [
      "[MainProcess:2017-02-24T12:32:10.274348] Computing AMI from {'color_cuts': {'H-K': (-0.1, 0.3), 'J-H': (0.4, 0.9)},\n",
      " 'k_mag': (4, 7),\n",
      " 'location': {'dec': -0.013289, 'ra': 40.669879, 'radius': 0.6},\n",
      " 'neighbors': ({'delta_k': 5.0, 'r_arcmin': 0.043},)}\n",
      "[MainProcess:2017-02-24T12:32:10.274851] ./query_2mass MK_MIN=4.0 MK_MAX=7.0 RA_CEN=40.669879 DE_CEN=-0.013289 DR_MIN=0.001 DR_MAX=0.6 > cache/base_4.0_k_7.0\n",
      "[ForkPoolWorker-1:2017-02-24T12:32:10.899888] neighbor searching cache/base_4.0_k_7.0_good_0.4_JH_0.9_-0.1_HK_0.3.chunk_00001\n",
      "[ForkPoolWorker-1:2017-02-24T12:32:10.902395] args: ('cache/base_4.0_k_7.0_good_0.4_JH_0.9_-0.1_HK_0.3.chunk_00001', 5.0, 0.043, 'cache/base_4.0_k_7.0_good_0.4_JH_0.9_-0.1_HK_0.3_without_neighbors_r_0.00072_dk_5.0', <AcquirerProxy object, typeid 'Lock' at 0x106a355c0>, False, False, False)\n",
      "[ForkPoolWorker-1:2017-02-24T12:32:10.904032] ./query_2mass RDLIST+ DR_MIN=0.001 DR_MAX=0.00072 DK_MAX=5.0 < cache/base_4.0_k_7.0_good_0.4_JH_0.9_-0.1_HK_0.3.chunk_00001 > cache/base_4.0_k_7.0_good_0.4_JH_0.9_-0.1_HK_0.3.chunk_00001.neighbors_r_0.00072_dk_5.0\n",
      "[MainProcess:2017-02-24T12:32:10.874726] Base list 4 < K 7 has 4 sources within 0.6 degrees of 40.669879 -0.013289\n",
      "[MainProcess:2017-02-24T12:32:10.874828] After removing duplicate entries: 4\n",
      "[MainProcess:2017-02-24T12:32:10.875246] Pruned 0 sources with non-AAA quality flags\n",
      "[MainProcess:2017-02-24T12:32:10.875276] After removing non-AAA sources: 4\n",
      "[MainProcess:2017-02-24T12:32:10.884404] Pruned 1 sources with 0.4 < J-H > 0.9\n",
      "[MainProcess:2017-02-24T12:32:10.885672] Pruned 0 sources with -0.1 < H-K > 0.3\n",
      "[MainProcess:2017-02-24T12:32:10.889494] After applying 2MASS color cuts: 3\n",
      "[MainProcess:2017-02-24T12:32:10.889542] for cache/base_4.0_k_7.0_good_0.4_JH_0.9_-0.1_HK_0.3 prune neighbors deltaK < 5.0 mag; r < 0.043 arcmin\n",
      "[MainProcess:2017-02-24T12:32:10.892616] Submitting task for cache/base_4.0_k_7.0_good_0.4_JH_0.9_-0.1_HK_0.3.chunk_00001\n",
      "[ForkPoolWorker-1:2017-02-24T12:32:11.445455] pruning base list cache/base_4.0_k_7.0_good_0.4_JH_0.9_-0.1_HK_0.3.chunk_00001 with neighbor list cache/base_4.0_k_7.0_good_0.4_JH_0.9_-0.1_HK_0.3.chunk_00001.neighbors_r_0.00072_dk_5.0\n",
      "[ForkPoolWorker-1:2017-02-24T12:32:11.447616] base stars: 3 entries\n",
      "[ForkPoolWorker-1:2017-02-24T12:32:11.449184] neighbor stars: 3 entries\n",
      "[ForkPoolWorker-1:2017-02-24T12:32:11.450651] keeping 3 entries from base list\n",
      "[ForkPoolWorker-1:2017-02-24T12:32:11.452369] create cache/base_4.0_k_7.0_good_0.4_JH_0.9_-0.1_HK_0.3.chunk_00001.pruned with neighbor-having stars removed\n",
      "[ForkPoolWorker-1:2017-02-24T12:32:11.453793] Chunk pruned with dk < 5.0 r < 0.043: 3 of 3 remaining\n",
      "[ForkPoolWorker-1:2017-02-24T12:32:11.454900] Append remaining stars from cache/base_4.0_k_7.0_good_0.4_JH_0.9_-0.1_HK_0.3.chunk_00001.pruned to cache/base_4.0_k_7.0_good_0.4_JH_0.9_-0.1_HK_0.3_without_neighbors_r_0.00072_dk_5.0\n",
      "[ForkPoolWorker-1:2017-02-24T12:32:11.456959] Acquired lock on cache/base_4.0_k_7.0_good_0.4_JH_0.9_-0.1_HK_0.3_without_neighbors_r_0.00072_dk_5.0\n",
      "[ForkPoolWorker-1:2017-02-24T12:32:11.458620] remove cache/base_4.0_k_7.0_good_0.4_JH_0.9_-0.1_HK_0.3.chunk_00001.pruned\n",
      "[ForkPoolWorker-1:2017-02-24T12:32:11.459696] remove cache/base_4.0_k_7.0_good_0.4_JH_0.9_-0.1_HK_0.3.chunk_00001.neighbors_r_0.00072_dk_5.0\n",
      "[ForkPoolWorker-1:2017-02-24T12:32:11.460619] remove cache/base_4.0_k_7.0_good_0.4_JH_0.9_-0.1_HK_0.3.chunk_00001\n",
      "[MainProcess:2017-02-24T12:32:11.461982] Got cache/base_4.0_k_7.0_good_0.4_JH_0.9_-0.1_HK_0.3_without_neighbors_r_0.00072_dk_5.0\n",
      "[MainProcess:2017-02-24T12:32:11.462030] After excluding stars with neighbors in deltaK < 5.0 mag; r < 0.043 arcmin: 3 sources\n",
      "[MainProcess:2017-02-24T12:32:11.462049] cp cache/base_4.0_k_7.0_good_0.4_JH_0.9_-0.1_HK_0.3_without_neighbors_r_0.00072_dk_5.0 target_lists/AMI\n",
      "[MainProcess:2017-02-24T12:32:11.464419] Wrote report to target_lists/AMI.report\n"
     ]
    }
   ],
   "source": [
    "result = lb.search(kmag, ra=ra, dec=dec, radius=radius, JH=JH, HK=HK, name=name, list_subdir=destination)"
   ]
  },
  {
   "cell_type": "code",
   "execution_count": 5,
   "metadata": {
    "collapsed": false
   },
   "outputs": [
    {
     "data": {
      "text/html": [
       "&lt;Table length=3&gt;\n",
       "<table id=\"table4405296992\" class=\"table-striped table-bordered table-condensed\">\n",
       "<thead><tr><th>RA</th><th>Dec</th><th>J</th><th>H</th><th>K</th><th>qual</th><th>idx</th><th>delta_RA</th><th>delta_Dec</th><th>J-H</th><th>H-K</th><th>arcmin</th></tr></thead>\n",
       "<thead><tr><th>float64</th><th>float64</th><th>float64</th><th>float64</th><th>float64</th><th>str3</th><th>str9</th><th>float64</th><th>float64</th><th>float64</th><th>float64</th><th>float64</th></tr></thead>\n",
       "<tr><td>40.93783</td><td>0.21037</td><td>7.16</td><td>6.57</td><td>6.4</td><td>AAA</td><td>U00000003</td><td>0.26795</td><td>0.22367</td><td>0.59</td><td>0.17</td><td>20.942</td></tr>\n",
       "<tr><td>41.23526</td><td>-0.00362</td><td>7.03</td><td>6.44</td><td>6.36</td><td>AAA</td><td>U00000001</td><td>0.5654</td><td>0.00966</td><td>0.59</td><td>0.08</td><td>33.928</td></tr>\n",
       "<tr><td>40.82145</td><td>0.08726</td><td>6.19</td><td>5.46</td><td>5.23</td><td>AAA</td><td>U00000002</td><td>0.15157</td><td>0.10055</td><td>0.73</td><td>0.23</td><td>10.913</td></tr>\n",
       "</table>"
      ],
      "text/plain": [
       "<Table length=3>\n",
       "   RA      Dec       J       H       K    ... delta_Dec   J-H     H-K    arcmin\n",
       "float64  float64  float64 float64 float64 ...  float64  float64 float64 float64\n",
       "-------- -------- ------- ------- ------- ... --------- ------- ------- -------\n",
       "40.93783  0.21037    7.16    6.57     6.4 ...   0.22367    0.59    0.17  20.942\n",
       "41.23526 -0.00362    7.03    6.44    6.36 ...   0.00966    0.59    0.08  33.928\n",
       "40.82145  0.08726    6.19    5.46    5.23 ...   0.10055    0.73    0.23  10.913"
      ]
     },
     "execution_count": 5,
     "metadata": {},
     "output_type": "execute_result"
    }
   ],
   "source": [
    "result"
   ]
  },
  {
   "cell_type": "markdown",
   "metadata": {},
   "source": [
    "We found three potential K-giants within 40 arcminutes of NGC1068! The last column is the distance from the central RA and Dec in arcminutes.\n",
    "\n",
    "Next we need to check the availability of our targets based on their visibility with JWST."
   ]
  },
  {
   "cell_type": "code",
   "execution_count": 6,
   "metadata": {
    "collapsed": false
   },
   "outputs": [
    {
     "data": {
      "text/plain": [
       "<matplotlib.text.Text at 0x112d88b00>"
      ]
     },
     "execution_count": 6,
     "metadata": {},
     "output_type": "execute_result"
    },
    {
     "data": {
      "text/plain": [
       "<matplotlib.figure.Figure at 0x112c80ef0>"
      ]
     },
     "metadata": {},
     "output_type": "display_data"
    },
    {
     "data": {
      "image/png": "[encoded data removed]",
      "text/plain": [
       "<matplotlib.figure.Figure at 0x1068842e8>"
      ]
     },
     "metadata": {},
     "output_type": "display_data"
    }
   ],
   "source": [
    "# Run through visibility_checker and check to see that the neighborhood is clear of other objects \n",
    "anim = ac.analyze_catalog(destination+name, None, lite=True, kind='')\n",
    "\n",
    "# Plot the availability over the year\n",
    "avail_data = np.load(destination+name+'_avail.npy')\n",
    "plt.figure(figsize=(15,10))\n",
    "plt.imshow(avail_data, cmap=matplotlib.cm.winter, interpolation='none')\n",
    "plt.xlabel('Days since 2018-10-29')\n",
    "plt.ylabel('Target')\n",
    "plt.title('Visibility (green)')"
   ]
  },
  {
   "cell_type": "markdown",
   "metadata": {},
   "source": [
    "As expected given our search radius, our three K-giants are visible all at the same time, shown in green.\n",
    "\n",
    "With larget target lists having scattered viewing times, we would want to sort our targets based on their visibility. For this example, we expect no difference after sorting since the targets all have similar viewing conditions. \n",
    "\n",
    "Still, let's run it just so we cover all the steps."
   ]
  },
  {
   "cell_type": "code",
   "execution_count": 7,
   "metadata": {
    "collapsed": false
   },
   "outputs": [
    {
     "name": "stdout",
     "output_type": "stream",
     "text": [
      "  % Total    % Received % Xferd  Average Speed   Time    Time     Time  Current\n",
      "                                 Dload  Upload   Total   Spent    Left  Speed\n",
      "100  2663    0  1296  100  1367    116    122  0:00:11  0:00:11 --:--:--     0\n",
      "Traceback (most recent call last):\n",
      "  File \"sort_targets.py\", line 365, in <module>\n",
      "    reduc_targets, reduc_status = make_reduced_table(targets, min_targets_per_day, max_reduc_length)\n",
      "  File \"sort_targets.py\", line 112, in make_reduced_table\n",
      "    simbadurl = basesimbadurl + \"%s\"%urllib.quote_plus(in_table['2MASS'][rr])\n",
      "AttributeError: module 'urllib' has no attribute 'quote_plus'\n"
     ]
    }
   ],
   "source": [
    "!python sort_targets.py ./target_lists/AMI ./target_lists/AMI_avail.npy --min_per_day_hemi=4 --max_length=8"
   ]
  },
  {
   "cell_type": "markdown",
   "metadata": {},
   "source": [
    "Finally, let's take a look at the targets in the DSS and 2MASS Point Source Catalogs. \n",
    "\n",
    "First we will retrieve the 2MASS IDs from IRSA, then the spectral type from Vizier, then check the Washington Double Star and Speckle IV catalogs to make sure it is not a binary."
   ]
  },
  {
   "cell_type": "code",
   "execution_count": 8,
   "metadata": {
    "collapsed": false
   },
   "outputs": [
    {
     "name": "stdout",
     "output_type": "stream",
     "text": [
      "Fetching 2MASS ID for source at 40.93783 0.21037 ...\n",
      "02434507+0012373 is not a K-giant: K5\n",
      "\n",
      "Fetching 2MASS ID for source at 41.23526 -0.00362 ...\n",
      "02445646-0000130 is a K0 III . Checking multiplicity...\n",
      "02445646-0000130 is a single K-giant! Adding it to the list.\n",
      "\n",
      "Fetching 2MASS ID for source at 40.82145 0.08726 ...\n",
      "02431714+0005141 is not a K-giant: M2\n",
      "02431714+0005141 is not a K-giant: M0\n",
      "\n",
      "Done! 1 candidate found.\n",
      "\n",
      "   RA      Dec     J    H    K   qual ... delta_Dec J-H  H-K  arcmin  SpT  \n",
      "-------- -------- ---- ---- ---- ---- ... --------- ---- ---- ------ ------\n",
      "41.23526 -0.00362 7.03 6.44 6.36  AAA ...   0.00966 0.59 0.08 33.928 K0 III\n"
     ]
    }
   ],
   "source": [
    "IDs, idx, SPT = [], [], []\n",
    "for n,row in enumerate(result):\n",
    "    r, d = row['RA'], row['Dec']\n",
    "    print('Fetching 2MASS ID for source at',r,d,'...')\n",
    "    source = Irsa.query_region(coords.ICRS(ra=r*q.deg, dec=d*q.deg), radius=2.0*q.arcsec, catalog=['fp_psc'])\n",
    "    twomass = source['designation'][0].decode(\"utf-8\")\n",
    "    \n",
    "    # Checking [Skiff, SEGUE, Michigan Spectral Survey]\n",
    "    catalogs = ['B/mk/mktypes','J/ApJ/816/80/table3','III/214/vol5']\n",
    "    MK = Vizier.query_region(coords.ICRS(ra=r*q.deg, dec=d*q.deg), radius=2.0*q.arcsec, catalog=catalogs)\n",
    "    \n",
    "    # Checking WDS and Speckle\n",
    "    binaries = ['B/wds/wds','J/AJ/143/124']\n",
    "    try:\n",
    "        spts = [i.decode(\"utf-8\") for i in MK[0]['SpType']]\n",
    "        \n",
    "        for spt in spts:\n",
    "            if 'K' in spt and 'III' in spt:\n",
    "                print(twomass,'is a',spt,'. Checking multiplicity...')\n",
    "                \n",
    "                wds = Vizier.query_region(coords.ICRS(ra=r*q.deg, dec=d*q.deg), radius=2.0*q.arcsec, catalog=binaries)\n",
    "                \n",
    "                if wds:\n",
    "                    print(twomass,'is a binary! Sorry.')\n",
    "                else:\n",
    "                    print(twomass,'is a single K-giant! Adding it to the list.')\n",
    "                    IDs.append(twomass)\n",
    "                    idx.append(n)\n",
    "                    SPT.append(spt)\n",
    "                    break\n",
    "            else:\n",
    "                print(twomass,'is not a K-giant:',spt)\n",
    "    except IOError:\n",
    "        print('No spectral type for source',twomass)\n",
    "    print('\\r')\n",
    "    \n",
    "result['SpT'] = SPT\n",
    "\n",
    "print('Done!',len(IDs),'candidate{} found.\\n'.format('' if len(IDs)==1 else 's'))\n",
    "print(result[idx])"
   ]
  },
  {
   "cell_type": "markdown",
   "metadata": {
    "collapsed": true
   },
   "source": [
    "Now we can get the postage stamps for the objects. In this case, only one K-giant was found... but that's all we need!"
   ]
  },
  {
   "cell_type": "code",
   "execution_count": 9,
   "metadata": {
    "collapsed": false
   },
   "outputs": [],
   "source": [
    "wg.gallery(IDs, 'target_lists/Cutouts.html')\n",
    "!open target_lists/Cutouts.html"
   ]
  },
  {
   "cell_type": "markdown",
   "metadata": {},
   "source": [
    "FIN"
   ]
  }
 ],
 "metadata": {
  "anaconda-cloud": {},
  "kernelspec": {
   "display_name": "Python [conda env:astroconda]",
   "language": "python",
   "name": "conda-env-astroconda-py"
  },
  "language_info": {
   "codemirror_mode": {
    "name": "ipython",
    "version": 3
   },
   "file_extension": ".py",
   "mimetype": "text/x-python",
   "name": "python",
   "nbconvert_exporter": "python",
   "pygments_lexer": "ipython3",
   "version": "3.5.2"
  }
 },
 "nbformat": 4,
 "nbformat_minor": 1
}
